{
 "cells": [
  {
   "cell_type": "code",
   "execution_count": 1,
   "metadata": {},
   "outputs": [],
   "source": [
    "import torchvision.models as models\n",
    "from torchinfo import summary"
   ]
  },
  {
   "cell_type": "code",
   "execution_count": 10,
   "metadata": {},
   "outputs": [
    {
     "data": {
      "text/plain": [
       "==========================================================================================\n",
       "Layer (type:depth-idx)                   Output Shape              Param #\n",
       "==========================================================================================\n",
       "ResNet                                   [64, 1000]                --\n",
       "├─Conv2d: 1-1                            [64, 64, 112, 112]        9,408\n",
       "├─BatchNorm2d: 1-2                       [64, 64, 112, 112]        128\n",
       "├─ReLU: 1-3                              [64, 64, 112, 112]        --\n",
       "├─MaxPool2d: 1-4                         [64, 64, 56, 56]          --\n",
       "├─Sequential: 1-5                        [64, 64, 56, 56]          --\n",
       "│    └─BasicBlock: 2-1                   [64, 64, 56, 56]          --\n",
       "│    │    └─Conv2d: 3-1                  [64, 64, 56, 56]          36,864\n",
       "│    │    └─BatchNorm2d: 3-2             [64, 64, 56, 56]          128\n",
       "│    │    └─ReLU: 3-3                    [64, 64, 56, 56]          --\n",
       "│    │    └─Conv2d: 3-4                  [64, 64, 56, 56]          36,864\n",
       "│    │    └─BatchNorm2d: 3-5             [64, 64, 56, 56]          128\n",
       "│    │    └─ReLU: 3-6                    [64, 64, 56, 56]          --\n",
       "│    └─BasicBlock: 2-2                   [64, 64, 56, 56]          --\n",
       "│    │    └─Conv2d: 3-7                  [64, 64, 56, 56]          36,864\n",
       "│    │    └─BatchNorm2d: 3-8             [64, 64, 56, 56]          128\n",
       "│    │    └─ReLU: 3-9                    [64, 64, 56, 56]          --\n",
       "│    │    └─Conv2d: 3-10                 [64, 64, 56, 56]          36,864\n",
       "│    │    └─BatchNorm2d: 3-11            [64, 64, 56, 56]          128\n",
       "│    │    └─ReLU: 3-12                   [64, 64, 56, 56]          --\n",
       "├─Sequential: 1-6                        [64, 128, 28, 28]         --\n",
       "│    └─BasicBlock: 2-3                   [64, 128, 28, 28]         --\n",
       "│    │    └─Conv2d: 3-13                 [64, 128, 28, 28]         73,728\n",
       "│    │    └─BatchNorm2d: 3-14            [64, 128, 28, 28]         256\n",
       "│    │    └─ReLU: 3-15                   [64, 128, 28, 28]         --\n",
       "│    │    └─Conv2d: 3-16                 [64, 128, 28, 28]         147,456\n",
       "│    │    └─BatchNorm2d: 3-17            [64, 128, 28, 28]         256\n",
       "│    │    └─Sequential: 3-18             [64, 128, 28, 28]         8,448\n",
       "│    │    └─ReLU: 3-19                   [64, 128, 28, 28]         --\n",
       "│    └─BasicBlock: 2-4                   [64, 128, 28, 28]         --\n",
       "│    │    └─Conv2d: 3-20                 [64, 128, 28, 28]         147,456\n",
       "│    │    └─BatchNorm2d: 3-21            [64, 128, 28, 28]         256\n",
       "│    │    └─ReLU: 3-22                   [64, 128, 28, 28]         --\n",
       "│    │    └─Conv2d: 3-23                 [64, 128, 28, 28]         147,456\n",
       "│    │    └─BatchNorm2d: 3-24            [64, 128, 28, 28]         256\n",
       "│    │    └─ReLU: 3-25                   [64, 128, 28, 28]         --\n",
       "├─Sequential: 1-7                        [64, 256, 14, 14]         --\n",
       "│    └─BasicBlock: 2-5                   [64, 256, 14, 14]         --\n",
       "│    │    └─Conv2d: 3-26                 [64, 256, 14, 14]         294,912\n",
       "│    │    └─BatchNorm2d: 3-27            [64, 256, 14, 14]         512\n",
       "│    │    └─ReLU: 3-28                   [64, 256, 14, 14]         --\n",
       "│    │    └─Conv2d: 3-29                 [64, 256, 14, 14]         589,824\n",
       "│    │    └─BatchNorm2d: 3-30            [64, 256, 14, 14]         512\n",
       "│    │    └─Sequential: 3-31             [64, 256, 14, 14]         33,280\n",
       "│    │    └─ReLU: 3-32                   [64, 256, 14, 14]         --\n",
       "│    └─BasicBlock: 2-6                   [64, 256, 14, 14]         --\n",
       "│    │    └─Conv2d: 3-33                 [64, 256, 14, 14]         589,824\n",
       "│    │    └─BatchNorm2d: 3-34            [64, 256, 14, 14]         512\n",
       "│    │    └─ReLU: 3-35                   [64, 256, 14, 14]         --\n",
       "│    │    └─Conv2d: 3-36                 [64, 256, 14, 14]         589,824\n",
       "│    │    └─BatchNorm2d: 3-37            [64, 256, 14, 14]         512\n",
       "│    │    └─ReLU: 3-38                   [64, 256, 14, 14]         --\n",
       "├─Sequential: 1-8                        [64, 512, 7, 7]           --\n",
       "│    └─BasicBlock: 2-7                   [64, 512, 7, 7]           --\n",
       "│    │    └─Conv2d: 3-39                 [64, 512, 7, 7]           1,179,648\n",
       "│    │    └─BatchNorm2d: 3-40            [64, 512, 7, 7]           1,024\n",
       "│    │    └─ReLU: 3-41                   [64, 512, 7, 7]           --\n",
       "│    │    └─Conv2d: 3-42                 [64, 512, 7, 7]           2,359,296\n",
       "│    │    └─BatchNorm2d: 3-43            [64, 512, 7, 7]           1,024\n",
       "│    │    └─Sequential: 3-44             [64, 512, 7, 7]           132,096\n",
       "│    │    └─ReLU: 3-45                   [64, 512, 7, 7]           --\n",
       "│    └─BasicBlock: 2-8                   [64, 512, 7, 7]           --\n",
       "│    │    └─Conv2d: 3-46                 [64, 512, 7, 7]           2,359,296\n",
       "│    │    └─BatchNorm2d: 3-47            [64, 512, 7, 7]           1,024\n",
       "│    │    └─ReLU: 3-48                   [64, 512, 7, 7]           --\n",
       "│    │    └─Conv2d: 3-49                 [64, 512, 7, 7]           2,359,296\n",
       "│    │    └─BatchNorm2d: 3-50            [64, 512, 7, 7]           1,024\n",
       "│    │    └─ReLU: 3-51                   [64, 512, 7, 7]           --\n",
       "├─AdaptiveAvgPool2d: 1-9                 [64, 512, 1, 1]           --\n",
       "├─Linear: 1-10                           [64, 1000]                513,000\n",
       "==========================================================================================\n",
       "Total params: 11,689,512\n",
       "Trainable params: 11,689,512\n",
       "Non-trainable params: 0\n",
       "Total mult-adds (G): 116.10\n",
       "==========================================================================================\n",
       "Input size (MB): 38.54\n",
       "Forward/backward pass size (MB): 2543.83\n",
       "Params size (MB): 46.76\n",
       "Estimated Total Size (MB): 2629.13\n",
       "=========================================================================================="
      ]
     },
     "execution_count": 10,
     "metadata": {},
     "output_type": "execute_result"
    }
   ],
   "source": [
    "model = models.resnet18()\n",
    "summary(model, (64, 3, 224, 224))"
   ]
  },
  {
   "cell_type": "code",
   "execution_count": 15,
   "metadata": {},
   "outputs": [
    {
     "data": {
      "text/plain": [
       "512"
      ]
     },
     "execution_count": 15,
     "metadata": {},
     "output_type": "execute_result"
    }
   ],
   "source": [
    "model.fc.in_features"
   ]
  },
  {
   "cell_type": "code",
   "execution_count": null,
   "metadata": {},
   "outputs": [],
   "source": []
  }
 ],
 "metadata": {
  "interpreter": {
   "hash": "a3f692d5692a1aef1822b0132143741831228b2e8813ebed1196a827351516d5"
  },
  "kernelspec": {
   "display_name": "Python 3.7.9 ('pytorch')",
   "language": "python",
   "name": "python3"
  },
  "language_info": {
   "codemirror_mode": {
    "name": "ipython",
    "version": 3
   },
   "file_extension": ".py",
   "mimetype": "text/x-python",
   "name": "python",
   "nbconvert_exporter": "python",
   "pygments_lexer": "ipython3",
   "version": "3.7.9"
  },
  "orig_nbformat": 4
 },
 "nbformat": 4,
 "nbformat_minor": 2
}
